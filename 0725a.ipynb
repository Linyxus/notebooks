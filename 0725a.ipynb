{
 "cells": [
  {
   "cell_type": "markdown",
   "metadata": {},
   "source": [
    "## 递归与递推\n",
    "### 递归\n",
    "递归是从上到下地解决问题，为了解决问题而去解决这个问题的子问题，并不断重复这个过程，直到问题解决。\n",
    "举一个熟悉的例子：斐波那契数列。\n",
    "$$ a_{n+2} = a_{n+1} + a_{n}, a_0 = 1, a_1 = 1 $$\n",
    "递归的解法："
   ]
  },
  {
   "cell_type": "code",
   "execution_count": 1,
   "metadata": {
    "collapsed": false
   },
   "outputs": [
    {
     "data": {
      "text/plain": [
       "89"
      ]
     },
     "execution_count": 1,
     "metadata": {},
     "output_type": "execute_result"
    }
   ],
   "source": [
    "def f(n):\n",
    "    if n == 0 or n == 1:\n",
    "        return 1\n",
    "    else:\n",
    "        return f(n - 1) + f(n - 2)\n",
    "f(10)"
   ]
  },
  {
   "cell_type": "markdown",
   "metadata": {},
   "source": [
    "### 递推\n",
    "递推是从下到上地解决问题，先解决所有解决这个问题所需要的子问题，所需解决的问题也就随之解决了。同样是斐波那契数列的例子。\n",
    "\n",
    "递推的解法："
   ]
  },
  {
   "cell_type": "code",
   "execution_count": 2,
   "metadata": {
    "collapsed": false
   },
   "outputs": [
    {
     "data": {
      "text/plain": [
       "89"
      ]
     },
     "execution_count": 2,
     "metadata": {},
     "output_type": "execute_result"
    }
   ],
   "source": [
    "def g(n):\n",
    "    an = [1, 1]\n",
    "    x = 2\n",
    "    while x <= n:\n",
    "        an.append(an[x - 1] + an[x - 2])\n",
    "        x += 1\n",
    "    return an[n]\n",
    "g(10)"
   ]
  },
  {
   "cell_type": "markdown",
   "metadata": {},
   "source": [
    "### 对比\n",
    "在这个问题上，递推是优于递归的。\n",
    "\n",
    "因为递归会重复计算很多次某一项的值，这很好理解，例如：只要计算$a_3$之后的项的值，那么$a_3$的值就也会被计算一遍。\n",
    "\n",
    "递推则不然，他从前往后计算每一项的值，并通过前面的项计算出后面的项，所有的项都只会被计算一遍。\n",
    "\n",
    "进行一下耗时对比："
   ]
  },
  {
   "cell_type": "code",
   "execution_count": 3,
   "metadata": {
    "collapsed": false
   },
   "outputs": [
    {
     "name": "stdout",
     "output_type": "stream",
     "text": [
      "CPU times: user 402 ms, sys: 38.8 ms, total: 441 ms\n",
      "Wall time: 394 ms\n"
     ]
    },
    {
     "data": {
      "text/plain": [
       "1346269"
      ]
     },
     "execution_count": 3,
     "metadata": {},
     "output_type": "execute_result"
    }
   ],
   "source": [
    "%time f(30)"
   ]
  },
  {
   "cell_type": "code",
   "execution_count": 4,
   "metadata": {
    "collapsed": false
   },
   "outputs": [
    {
     "name": "stdout",
     "output_type": "stream",
     "text": [
      "CPU times: user 23 µs, sys: 0 ns, total: 23 µs\n",
      "Wall time: 21 µs\n"
     ]
    },
    {
     "data": {
      "text/plain": [
       "1346269"
      ]
     },
     "execution_count": 4,
     "metadata": {},
     "output_type": "execute_result"
    }
   ],
   "source": [
    "%time g(30)"
   ]
  },
  {
   "cell_type": "markdown",
   "metadata": {},
   "source": [
    "当输入数据大了之后，是数量级的差别。"
   ]
  }
 ],
 "metadata": {
  "kernelspec": {
   "display_name": "Python [conda root]",
   "language": "python",
   "name": "conda-root-py"
  },
  "language_info": {
   "codemirror_mode": {
    "name": "ipython",
    "version": 2
   },
   "file_extension": ".py",
   "mimetype": "text/x-python",
   "name": "python",
   "nbconvert_exporter": "python",
   "pygments_lexer": "ipython2",
   "version": "2.7.13"
  }
 },
 "nbformat": 4,
 "nbformat_minor": 2
}
