{
 "cells": [
  {
   "cell_type": "markdown",
   "metadata": {},
   "source": [
    "## Cifar-10 CNN\n",
    "### Import, init"
   ]
  },
  {
   "cell_type": "code",
   "execution_count": 1,
   "metadata": {},
   "outputs": [
    {
     "name": "stderr",
     "output_type": "stream",
     "text": [
      "Using TensorFlow backend.\n"
     ]
    },
    {
     "name": "stdout",
     "output_type": "stream",
     "text": [
      "Using data format: channels_first\n"
     ]
    }
   ],
   "source": [
    "import keras\n",
    "import numpy as np\n",
    "import pickle\n",
    "\n",
    "keras.backend.set_image_data_format('channels_first')\n",
    "print('Using data format:', keras.backend.image_data_format())"
   ]
  },
  {
   "cell_type": "markdown",
   "metadata": {},
   "source": [
    "### Read data"
   ]
  },
  {
   "cell_type": "code",
   "execution_count": 2,
   "metadata": {},
   "outputs": [
    {
     "name": "stdout",
     "output_type": "stream",
     "text": [
      "# test: \n",
      "Wall time: 48.3 ms\n",
      "# data shape: (10000, 3, 32, 32)\n",
      "# label names\n",
      "[b'airplane', b'automobile', b'bird', b'cat', b'deer', b'dog', b'frog', b'horse', b'ship', b'truck']\n"
     ]
    }
   ],
   "source": [
    "img_row, img_col, img_cnl = 32, 32, 3\n",
    "label_names = { }\n",
    "def read_imgs(filename):\n",
    "    f = open(filename, 'rb')\n",
    "    data = pickle.load(f, encoding='bytes')\n",
    "    f.close()\n",
    "    imgs = np.array(data[b'data'])\n",
    "    imgs = imgs.reshape((imgs.shape[0], img_cnl, img_row, img_col))\n",
    "    labels = np.array(data[b'labels'])\n",
    "    return imgs, labels\n",
    "def load_labels(filename):\n",
    "    f = open(filename, 'rb')\n",
    "    data = pickle.load(f, encoding='bytes')\n",
    "    f.close()\n",
    "    return data[b'label_names']\n",
    "print('# test: ')\n",
    "%time imgs, labels = read_imgs('datas/data_batch_1')\n",
    "print('# data shape:' ,imgs.shape)\n",
    "print('# label names')\n",
    "print(load_labels('datas/batches.meta'))"
   ]
  },
  {
   "cell_type": "markdown",
   "metadata": {},
   "source": [
    "read all data from file"
   ]
  },
  {
   "cell_type": "code",
   "execution_count": 3,
   "metadata": {},
   "outputs": [
    {
     "name": "stdout",
     "output_type": "stream",
     "text": [
      "# Train data loaded: 50000\n",
      "# Test data loaded: 10000\n",
      "# Label names:\n",
      "['airplane', 'automobile', 'bird', 'cat', 'deer', 'dog', 'frog', 'horse', 'ship', 'truck']\n"
     ]
    }
   ],
   "source": [
    "# Load datas\n",
    "train_x, train_y = read_imgs('datas/data_batch_1')\n",
    "for x in (2, 3, 4, 5):\n",
    "    fn = 'datas/data_batch_%d' % x\n",
    "    imgs, labels = read_imgs(fn)\n",
    "    train_x = np.concatenate((train_x, imgs))\n",
    "    train_y = np.concatenate((train_y, labels))\n",
    "test_x, test_y = read_imgs('datas/test_batch')\n",
    "\n",
    "# Load label names\n",
    "label_names = load_labels('datas/batches.meta')\n",
    "label_names = [x.decode('ascii') for x in label_names]\n",
    "\n",
    "# Categorical\n",
    "class_cnt = len(label_names)\n",
    "train_y = keras.utils.to_categorical(train_y, class_cnt)\n",
    "test_y = keras.utils.to_categorical(test_y, class_cnt)\n",
    "\n",
    "# Standard\n",
    "train_x = train_x.astype('float32')\n",
    "test_x = test_x.astype('float32')\n",
    "train_x /= 255\n",
    "test_x /= 255\n",
    "\n",
    "print('# Train data loaded:', train_x.shape[0])\n",
    "print('# Test data loaded:', test_x.shape[0])\n",
    "print('# Label names:')\n",
    "print(label_names)"
   ]
  },
  {
   "cell_type": "markdown",
   "metadata": {},
   "source": [
    "## Define network structure\n",
    "Conv -> Conv -> Pooling -> Conv -> Conv -> Pooling -> Dense"
   ]
  },
  {
   "cell_type": "code",
   "execution_count": 5,
   "metadata": {
    "collapsed": true
   },
   "outputs": [],
   "source": [
    "batch_size = 128\n",
    "epochs = 200\n",
    "\n",
    "model = keras.models.Sequential()\n",
    "\n",
    "model.add(keras.layers.Conv2D(32, (3, 3), activation='relu', padding='same', input_shape=train_x.shape[1:]))\n",
    "model.add(keras.layers.Conv2D(32, (3, 3), activation='relu'))\n",
    "model.add(keras.layers.MaxPooling2D((2, 2)))\n",
    "model.add(keras.layers.Dropout(0.25))\n",
    "\n",
    "model.add(keras.layers.Conv2D(64, (3, 3), activation='relu', padding='same'))\n",
    "model.add(keras.layers.Conv2D(64, (3, 3), activation='relu'))\n",
    "model.add(keras.layers.MaxPooling2D((2, 2)))\n",
    "model.add(keras.layers.Dropout(0.25))\n",
    "\n",
    "model.add(keras.layers.Flatten())\n",
    "model.add(keras.layers.Dense(512, activation='relu'))\n",
    "model.add(keras.layers.Dropout(0.5))\n",
    "model.add(keras.layers.Dense(class_cnt, activation='softmax'))\n",
    "\n",
    "model.compile(loss='categorical_crossentropy',\n",
    "              optimizer='adam',\n",
    "              metrics=['accuracy'])"
   ]
  },
  {
   "cell_type": "markdown",
   "metadata": {},
   "source": [
    "## Train and evaluate"
   ]
  },
  {
   "cell_type": "code",
   "execution_count": 6,
   "metadata": {},
   "outputs": [
    {
     "name": "stdout",
     "output_type": "stream",
     "text": [
      "Train on 50000 samples, validate on 10000 samples\n",
      "Epoch 1/200\n",
      "50000/50000 [==============================] - 39s - loss: 1.6358 - acc: 0.3974 - val_loss: 1.2714 - val_acc: 0.5455\n",
      "Epoch 2/200\n",
      "50000/50000 [==============================] - 37s - loss: 1.2128 - acc: 0.5687 - val_loss: 1.0620 - val_acc: 0.6287\n",
      "Epoch 3/200\n",
      "50000/50000 [==============================] - 37s - loss: 1.0157 - acc: 0.6411 - val_loss: 0.9031 - val_acc: 0.6810\n",
      "Epoch 4/200\n",
      "50000/50000 [==============================] - 37s - loss: 0.8976 - acc: 0.6837 - val_loss: 0.8035 - val_acc: 0.7158\n",
      "Epoch 5/200\n",
      "50000/50000 [==============================] - 37s - loss: 0.8237 - acc: 0.7097 - val_loss: 0.7998 - val_acc: 0.7207\n",
      "Epoch 6/200\n",
      "50000/50000 [==============================] - 37s - loss: 0.7657 - acc: 0.7313 - val_loss: 0.7254 - val_acc: 0.7527\n",
      "Epoch 7/200\n",
      "50000/50000 [==============================] - 37s - loss: 0.7125 - acc: 0.7502 - val_loss: 0.6912 - val_acc: 0.7624\n",
      "Epoch 8/200\n",
      "50000/50000 [==============================] - 36s - loss: 0.6755 - acc: 0.7644 - val_loss: 0.6806 - val_acc: 0.7637\n",
      "Epoch 9/200\n",
      "50000/50000 [==============================] - 37s - loss: 0.6434 - acc: 0.7746 - val_loss: 0.6455 - val_acc: 0.7778\n",
      "Epoch 10/200\n",
      "50000/50000 [==============================] - 37s - loss: 0.6066 - acc: 0.7851 - val_loss: 0.6338 - val_acc: 0.7833\n",
      "Epoch 11/200\n",
      "50000/50000 [==============================] - 37s - loss: 0.5828 - acc: 0.7948 - val_loss: 0.6256 - val_acc: 0.7853\n",
      "Epoch 12/200\n",
      "50000/50000 [==============================] - 37s - loss: 0.5499 - acc: 0.8061 - val_loss: 0.6087 - val_acc: 0.7905\n",
      "Epoch 13/200\n",
      "50000/50000 [==============================] - 37s - loss: 0.5258 - acc: 0.8139 - val_loss: 0.6184 - val_acc: 0.7910\n",
      "Epoch 14/200\n",
      "50000/50000 [==============================] - 37s - loss: 0.5105 - acc: 0.8186 - val_loss: 0.6133 - val_acc: 0.7941\n",
      "Epoch 15/200\n",
      "50000/50000 [==============================] - 37s - loss: 0.4870 - acc: 0.8273 - val_loss: 0.6044 - val_acc: 0.7946\n",
      "Epoch 16/200\n",
      "50000/50000 [==============================] - 37s - loss: 0.4764 - acc: 0.8321 - val_loss: 0.6280 - val_acc: 0.7915\n",
      "Epoch 17/200\n",
      "50000/50000 [==============================] - 37s - loss: 0.4492 - acc: 0.8407 - val_loss: 0.6203 - val_acc: 0.7950\n",
      "Epoch 18/200\n",
      "50000/50000 [==============================] - 36s - loss: 0.4421 - acc: 0.8412 - val_loss: 0.6155 - val_acc: 0.7959\n",
      "Epoch 19/200\n",
      "50000/50000 [==============================] - 36s - loss: 0.4280 - acc: 0.8479 - val_loss: 0.5990 - val_acc: 0.8046\n",
      "Epoch 20/200\n",
      "50000/50000 [==============================] - 36s - loss: 0.4163 - acc: 0.8543 - val_loss: 0.6136 - val_acc: 0.8012\n",
      "Epoch 21/200\n",
      "50000/50000 [==============================] - 36s - loss: 0.4004 - acc: 0.8568 - val_loss: 0.5968 - val_acc: 0.8044\n",
      "Epoch 22/200\n",
      "50000/50000 [==============================] - 36s - loss: 0.3953 - acc: 0.8585 - val_loss: 0.6312 - val_acc: 0.8000\n",
      "Epoch 23/200\n",
      "50000/50000 [==============================] - 36s - loss: 0.3866 - acc: 0.8627 - val_loss: 0.6141 - val_acc: 0.8064\n",
      "Epoch 24/200\n",
      "50000/50000 [==============================] - 36s - loss: 0.3774 - acc: 0.8665 - val_loss: 0.6074 - val_acc: 0.8061\n",
      "Epoch 25/200\n",
      "50000/50000 [==============================] - 36s - loss: 0.3581 - acc: 0.8717 - val_loss: 0.6497 - val_acc: 0.7967\n",
      "Epoch 26/200\n",
      "50000/50000 [==============================] - 36s - loss: 0.3526 - acc: 0.8737 - val_loss: 0.6321 - val_acc: 0.7989\n",
      "Epoch 27/200\n",
      "50000/50000 [==============================] - 36s - loss: 0.3475 - acc: 0.8758 - val_loss: 0.6266 - val_acc: 0.8037\n",
      "Epoch 28/200\n",
      "50000/50000 [==============================] - 36s - loss: 0.3414 - acc: 0.8791 - val_loss: 0.6156 - val_acc: 0.8090\n",
      "Epoch 29/200\n",
      "50000/50000 [==============================] - 36s - loss: 0.3305 - acc: 0.8835 - val_loss: 0.6069 - val_acc: 0.8085\n",
      "Epoch 30/200\n",
      "50000/50000 [==============================] - 36s - loss: 0.3261 - acc: 0.8837 - val_loss: 0.6263 - val_acc: 0.8071\n",
      "Epoch 31/200\n",
      "50000/50000 [==============================] - 36s - loss: 0.3226 - acc: 0.8847 - val_loss: 0.6187 - val_acc: 0.8060\n",
      "Epoch 32/200\n",
      "50000/50000 [==============================] - 36s - loss: 0.3146 - acc: 0.8901 - val_loss: 0.6618 - val_acc: 0.8017\n",
      "Epoch 33/200\n",
      "50000/50000 [==============================] - 36s - loss: 0.3166 - acc: 0.8882 - val_loss: 0.6551 - val_acc: 0.8060\n",
      "Epoch 34/200\n",
      "50000/50000 [==============================] - 36s - loss: 0.3056 - acc: 0.8913 - val_loss: 0.6392 - val_acc: 0.8088\n",
      "Epoch 35/200\n",
      "50000/50000 [==============================] - 36s - loss: 0.2956 - acc: 0.8962 - val_loss: 0.6416 - val_acc: 0.8043\n",
      "Epoch 36/200\n",
      "50000/50000 [==============================] - 36s - loss: 0.3024 - acc: 0.8923 - val_loss: 0.6409 - val_acc: 0.8075\n",
      "Epoch 37/200\n",
      "50000/50000 [==============================] - 36s - loss: 0.2934 - acc: 0.8951 - val_loss: 0.6406 - val_acc: 0.8077\n",
      "Epoch 38/200\n",
      "50000/50000 [==============================] - 36s - loss: 0.2918 - acc: 0.8953 - val_loss: 0.6297 - val_acc: 0.8112\n",
      "Epoch 39/200\n",
      "50000/50000 [==============================] - 36s - loss: 0.2847 - acc: 0.8998 - val_loss: 0.6391 - val_acc: 0.8087\n",
      "Epoch 40/200\n",
      "50000/50000 [==============================] - 36s - loss: 0.2770 - acc: 0.9020 - val_loss: 0.6497 - val_acc: 0.8094\n",
      "Epoch 41/200\n",
      "50000/50000 [==============================] - 36s - loss: 0.2833 - acc: 0.8988 - val_loss: 0.6347 - val_acc: 0.8111\n",
      "Epoch 42/200\n",
      "50000/50000 [==============================] - 36s - loss: 0.2831 - acc: 0.8993 - val_loss: 0.6327 - val_acc: 0.8113\n",
      "Epoch 43/200\n",
      "50000/50000 [==============================] - 36s - loss: 0.2744 - acc: 0.9023 - val_loss: 0.6682 - val_acc: 0.8123\n",
      "Epoch 44/200\n",
      "50000/50000 [==============================] - 36s - loss: 0.2792 - acc: 0.9026 - val_loss: 0.6442 - val_acc: 0.8113\n",
      "Epoch 45/200\n",
      "50000/50000 [==============================] - 36s - loss: 0.2659 - acc: 0.9054 - val_loss: 0.7192 - val_acc: 0.7941\n",
      "Epoch 46/200\n",
      "50000/50000 [==============================] - 36s - loss: 0.2649 - acc: 0.9062 - val_loss: 0.6616 - val_acc: 0.8140\n",
      "Epoch 47/200\n",
      "50000/50000 [==============================] - 36s - loss: 0.2600 - acc: 0.9089 - val_loss: 0.6924 - val_acc: 0.8079\n",
      "Epoch 48/200\n",
      "50000/50000 [==============================] - 36s - loss: 0.2628 - acc: 0.9073 - val_loss: 0.6525 - val_acc: 0.8106\n",
      "Epoch 49/200\n",
      "50000/50000 [==============================] - 36s - loss: 0.2596 - acc: 0.9077 - val_loss: 0.6470 - val_acc: 0.8101\n",
      "Epoch 50/200\n",
      "50000/50000 [==============================] - 36s - loss: 0.2499 - acc: 0.9121 - val_loss: 0.6706 - val_acc: 0.8101\n",
      "Epoch 51/200\n",
      "50000/50000 [==============================] - 36s - loss: 0.2487 - acc: 0.9127 - val_loss: 0.6862 - val_acc: 0.8118\n",
      "Epoch 52/200\n",
      "50000/50000 [==============================] - 36s - loss: 0.2441 - acc: 0.9154 - val_loss: 0.6754 - val_acc: 0.8068\n",
      "Epoch 53/200\n",
      "50000/50000 [==============================] - 36s - loss: 0.2439 - acc: 0.9144 - val_loss: 0.7041 - val_acc: 0.8031\n",
      "Epoch 54/200\n",
      "50000/50000 [==============================] - 36s - loss: 0.2499 - acc: 0.9115 - val_loss: 0.6829 - val_acc: 0.8046\n",
      "Epoch 55/200\n",
      "50000/50000 [==============================] - 36s - loss: 0.2419 - acc: 0.9137 - val_loss: 0.6743 - val_acc: 0.8077\n",
      "Epoch 56/200\n",
      "50000/50000 [==============================] - 36s - loss: 0.2421 - acc: 0.9145 - val_loss: 0.6557 - val_acc: 0.8104\n",
      "Epoch 57/200\n",
      "50000/50000 [==============================] - 36s - loss: 0.2384 - acc: 0.9160 - val_loss: 0.6645 - val_acc: 0.8080\n",
      "Epoch 58/200\n",
      "50000/50000 [==============================] - 36s - loss: 0.2325 - acc: 0.9177 - val_loss: 0.6838 - val_acc: 0.8101\n",
      "Epoch 59/200\n",
      "50000/50000 [==============================] - 36s - loss: 0.2384 - acc: 0.9177 - val_loss: 0.6695 - val_acc: 0.8176\n",
      "Epoch 60/200\n",
      "50000/50000 [==============================] - 36s - loss: 0.2318 - acc: 0.9182 - val_loss: 0.6661 - val_acc: 0.8157\n",
      "Epoch 61/200\n",
      "50000/50000 [==============================] - 36s - loss: 0.2307 - acc: 0.9197 - val_loss: 0.6797 - val_acc: 0.8125\n",
      "Epoch 62/200\n",
      "50000/50000 [==============================] - 36s - loss: 0.2299 - acc: 0.9195 - val_loss: 0.6802 - val_acc: 0.8113\n",
      "Epoch 63/200\n"
     ]
    },
    {
     "name": "stdout",
     "output_type": "stream",
     "text": [
      "50000/50000 [==============================] - 36s - loss: 0.2312 - acc: 0.9190 - val_loss: 0.6624 - val_acc: 0.8117\n",
      "Epoch 64/200\n",
      "50000/50000 [==============================] - 36s - loss: 0.2195 - acc: 0.9228 - val_loss: 0.6954 - val_acc: 0.8093\n",
      "Epoch 65/200\n",
      "50000/50000 [==============================] - 36s - loss: 0.2280 - acc: 0.9217 - val_loss: 0.6674 - val_acc: 0.8140\n",
      "Epoch 66/200\n",
      "50000/50000 [==============================] - 36s - loss: 0.2205 - acc: 0.9221 - val_loss: 0.6877 - val_acc: 0.8072\n",
      "Epoch 67/200\n",
      "50000/50000 [==============================] - 37s - loss: 0.2258 - acc: 0.9204 - val_loss: 0.6631 - val_acc: 0.8101\n",
      "Epoch 68/200\n",
      " 8064/50000 [===>..........................] - ETA: 29s - loss: 0.1998 - acc: 0.9273"
     ]
    },
    {
     "ename": "KeyboardInterrupt",
     "evalue": "",
     "output_type": "error",
     "traceback": [
      "\u001b[1;31m---------------------------------------------------------------------------\u001b[0m",
      "\u001b[1;31mKeyboardInterrupt\u001b[0m                         Traceback (most recent call last)",
      "\u001b[1;32m<ipython-input-6-55cd517c15c2>\u001b[0m in \u001b[0;36m<module>\u001b[1;34m()\u001b[0m\n\u001b[0;32m      2\u001b[0m           \u001b[0mbatch_size\u001b[0m\u001b[1;33m=\u001b[0m\u001b[0mbatch_size\u001b[0m\u001b[1;33m,\u001b[0m\u001b[1;33m\u001b[0m\u001b[0m\n\u001b[0;32m      3\u001b[0m           \u001b[0mepochs\u001b[0m\u001b[1;33m=\u001b[0m\u001b[0mepochs\u001b[0m\u001b[1;33m,\u001b[0m\u001b[1;33m\u001b[0m\u001b[0m\n\u001b[1;32m----> 4\u001b[1;33m           validation_data=(test_x, test_y))\n\u001b[0m\u001b[0;32m      5\u001b[0m \u001b[0mmodel\u001b[0m\u001b[1;33m.\u001b[0m\u001b[0mevaluate\u001b[0m\u001b[1;33m(\u001b[0m\u001b[0mtest_x\u001b[0m\u001b[1;33m,\u001b[0m \u001b[0mtest_y\u001b[0m\u001b[1;33m,\u001b[0m \u001b[0mverbose\u001b[0m\u001b[1;33m=\u001b[0m\u001b[1;36m0\u001b[0m\u001b[1;33m)\u001b[0m\u001b[1;33m\u001b[0m\u001b[0m\n",
      "\u001b[1;32mC:\\Users\\Linyx\\Anaconda3\\lib\\site-packages\\keras\\models.py\u001b[0m in \u001b[0;36mfit\u001b[1;34m(self, x, y, batch_size, epochs, verbose, callbacks, validation_split, validation_data, shuffle, class_weight, sample_weight, initial_epoch, **kwargs)\u001b[0m\n\u001b[0;32m    851\u001b[0m                               \u001b[0mclass_weight\u001b[0m\u001b[1;33m=\u001b[0m\u001b[0mclass_weight\u001b[0m\u001b[1;33m,\u001b[0m\u001b[1;33m\u001b[0m\u001b[0m\n\u001b[0;32m    852\u001b[0m                               \u001b[0msample_weight\u001b[0m\u001b[1;33m=\u001b[0m\u001b[0msample_weight\u001b[0m\u001b[1;33m,\u001b[0m\u001b[1;33m\u001b[0m\u001b[0m\n\u001b[1;32m--> 853\u001b[1;33m                               initial_epoch=initial_epoch)\n\u001b[0m\u001b[0;32m    854\u001b[0m \u001b[1;33m\u001b[0m\u001b[0m\n\u001b[0;32m    855\u001b[0m     def evaluate(self, x, y, batch_size=32, verbose=1,\n",
      "\u001b[1;32mC:\\Users\\Linyx\\Anaconda3\\lib\\site-packages\\keras\\engine\\training.py\u001b[0m in \u001b[0;36mfit\u001b[1;34m(self, x, y, batch_size, epochs, verbose, callbacks, validation_split, validation_data, shuffle, class_weight, sample_weight, initial_epoch, **kwargs)\u001b[0m\n\u001b[0;32m   1484\u001b[0m                               \u001b[0mval_f\u001b[0m\u001b[1;33m=\u001b[0m\u001b[0mval_f\u001b[0m\u001b[1;33m,\u001b[0m \u001b[0mval_ins\u001b[0m\u001b[1;33m=\u001b[0m\u001b[0mval_ins\u001b[0m\u001b[1;33m,\u001b[0m \u001b[0mshuffle\u001b[0m\u001b[1;33m=\u001b[0m\u001b[0mshuffle\u001b[0m\u001b[1;33m,\u001b[0m\u001b[1;33m\u001b[0m\u001b[0m\n\u001b[0;32m   1485\u001b[0m                               \u001b[0mcallback_metrics\u001b[0m\u001b[1;33m=\u001b[0m\u001b[0mcallback_metrics\u001b[0m\u001b[1;33m,\u001b[0m\u001b[1;33m\u001b[0m\u001b[0m\n\u001b[1;32m-> 1486\u001b[1;33m                               initial_epoch=initial_epoch)\n\u001b[0m\u001b[0;32m   1487\u001b[0m \u001b[1;33m\u001b[0m\u001b[0m\n\u001b[0;32m   1488\u001b[0m     \u001b[1;32mdef\u001b[0m \u001b[0mevaluate\u001b[0m\u001b[1;33m(\u001b[0m\u001b[0mself\u001b[0m\u001b[1;33m,\u001b[0m \u001b[0mx\u001b[0m\u001b[1;33m,\u001b[0m \u001b[0my\u001b[0m\u001b[1;33m,\u001b[0m \u001b[0mbatch_size\u001b[0m\u001b[1;33m=\u001b[0m\u001b[1;36m32\u001b[0m\u001b[1;33m,\u001b[0m \u001b[0mverbose\u001b[0m\u001b[1;33m=\u001b[0m\u001b[1;36m1\u001b[0m\u001b[1;33m,\u001b[0m \u001b[0msample_weight\u001b[0m\u001b[1;33m=\u001b[0m\u001b[1;32mNone\u001b[0m\u001b[1;33m)\u001b[0m\u001b[1;33m:\u001b[0m\u001b[1;33m\u001b[0m\u001b[0m\n",
      "\u001b[1;32mC:\\Users\\Linyx\\Anaconda3\\lib\\site-packages\\keras\\engine\\training.py\u001b[0m in \u001b[0;36m_fit_loop\u001b[1;34m(self, f, ins, out_labels, batch_size, epochs, verbose, callbacks, val_f, val_ins, shuffle, callback_metrics, initial_epoch)\u001b[0m\n\u001b[0;32m   1139\u001b[0m                 \u001b[0mbatch_logs\u001b[0m\u001b[1;33m[\u001b[0m\u001b[1;34m'size'\u001b[0m\u001b[1;33m]\u001b[0m \u001b[1;33m=\u001b[0m \u001b[0mlen\u001b[0m\u001b[1;33m(\u001b[0m\u001b[0mbatch_ids\u001b[0m\u001b[1;33m)\u001b[0m\u001b[1;33m\u001b[0m\u001b[0m\n\u001b[0;32m   1140\u001b[0m                 \u001b[0mcallbacks\u001b[0m\u001b[1;33m.\u001b[0m\u001b[0mon_batch_begin\u001b[0m\u001b[1;33m(\u001b[0m\u001b[0mbatch_index\u001b[0m\u001b[1;33m,\u001b[0m \u001b[0mbatch_logs\u001b[0m\u001b[1;33m)\u001b[0m\u001b[1;33m\u001b[0m\u001b[0m\n\u001b[1;32m-> 1141\u001b[1;33m                 \u001b[0mouts\u001b[0m \u001b[1;33m=\u001b[0m \u001b[0mf\u001b[0m\u001b[1;33m(\u001b[0m\u001b[0mins_batch\u001b[0m\u001b[1;33m)\u001b[0m\u001b[1;33m\u001b[0m\u001b[0m\n\u001b[0m\u001b[0;32m   1142\u001b[0m                 \u001b[1;32mif\u001b[0m \u001b[1;32mnot\u001b[0m \u001b[0misinstance\u001b[0m\u001b[1;33m(\u001b[0m\u001b[0mouts\u001b[0m\u001b[1;33m,\u001b[0m \u001b[0mlist\u001b[0m\u001b[1;33m)\u001b[0m\u001b[1;33m:\u001b[0m\u001b[1;33m\u001b[0m\u001b[0m\n\u001b[0;32m   1143\u001b[0m                     \u001b[0mouts\u001b[0m \u001b[1;33m=\u001b[0m \u001b[1;33m[\u001b[0m\u001b[0mouts\u001b[0m\u001b[1;33m]\u001b[0m\u001b[1;33m\u001b[0m\u001b[0m\n",
      "\u001b[1;32mC:\\Users\\Linyx\\Anaconda3\\lib\\site-packages\\keras\\backend\\tensorflow_backend.py\u001b[0m in \u001b[0;36m__call__\u001b[1;34m(self, inputs)\u001b[0m\n\u001b[0;32m   2101\u001b[0m         \u001b[0msession\u001b[0m \u001b[1;33m=\u001b[0m \u001b[0mget_session\u001b[0m\u001b[1;33m(\u001b[0m\u001b[1;33m)\u001b[0m\u001b[1;33m\u001b[0m\u001b[0m\n\u001b[0;32m   2102\u001b[0m         updated = session.run(self.outputs + [self.updates_op],\n\u001b[1;32m-> 2103\u001b[1;33m                               feed_dict=feed_dict)\n\u001b[0m\u001b[0;32m   2104\u001b[0m         \u001b[1;32mreturn\u001b[0m \u001b[0mupdated\u001b[0m\u001b[1;33m[\u001b[0m\u001b[1;33m:\u001b[0m\u001b[0mlen\u001b[0m\u001b[1;33m(\u001b[0m\u001b[0mself\u001b[0m\u001b[1;33m.\u001b[0m\u001b[0moutputs\u001b[0m\u001b[1;33m)\u001b[0m\u001b[1;33m]\u001b[0m\u001b[1;33m\u001b[0m\u001b[0m\n\u001b[0;32m   2105\u001b[0m \u001b[1;33m\u001b[0m\u001b[0m\n",
      "\u001b[1;32mC:\\Users\\Linyx\\Anaconda3\\lib\\site-packages\\tensorflow\\python\\client\\session.py\u001b[0m in \u001b[0;36mrun\u001b[1;34m(self, fetches, feed_dict, options, run_metadata)\u001b[0m\n\u001b[0;32m    765\u001b[0m     \u001b[1;32mtry\u001b[0m\u001b[1;33m:\u001b[0m\u001b[1;33m\u001b[0m\u001b[0m\n\u001b[0;32m    766\u001b[0m       result = self._run(None, fetches, feed_dict, options_ptr,\n\u001b[1;32m--> 767\u001b[1;33m                          run_metadata_ptr)\n\u001b[0m\u001b[0;32m    768\u001b[0m       \u001b[1;32mif\u001b[0m \u001b[0mrun_metadata\u001b[0m\u001b[1;33m:\u001b[0m\u001b[1;33m\u001b[0m\u001b[0m\n\u001b[0;32m    769\u001b[0m         \u001b[0mproto_data\u001b[0m \u001b[1;33m=\u001b[0m \u001b[0mtf_session\u001b[0m\u001b[1;33m.\u001b[0m\u001b[0mTF_GetBuffer\u001b[0m\u001b[1;33m(\u001b[0m\u001b[0mrun_metadata_ptr\u001b[0m\u001b[1;33m)\u001b[0m\u001b[1;33m\u001b[0m\u001b[0m\n",
      "\u001b[1;32mC:\\Users\\Linyx\\Anaconda3\\lib\\site-packages\\tensorflow\\python\\client\\session.py\u001b[0m in \u001b[0;36m_run\u001b[1;34m(self, handle, fetches, feed_dict, options, run_metadata)\u001b[0m\n\u001b[0;32m    963\u001b[0m     \u001b[1;32mif\u001b[0m \u001b[0mfinal_fetches\u001b[0m \u001b[1;32mor\u001b[0m \u001b[0mfinal_targets\u001b[0m\u001b[1;33m:\u001b[0m\u001b[1;33m\u001b[0m\u001b[0m\n\u001b[0;32m    964\u001b[0m       results = self._do_run(handle, final_targets, final_fetches,\n\u001b[1;32m--> 965\u001b[1;33m                              feed_dict_string, options, run_metadata)\n\u001b[0m\u001b[0;32m    966\u001b[0m     \u001b[1;32melse\u001b[0m\u001b[1;33m:\u001b[0m\u001b[1;33m\u001b[0m\u001b[0m\n\u001b[0;32m    967\u001b[0m       \u001b[0mresults\u001b[0m \u001b[1;33m=\u001b[0m \u001b[1;33m[\u001b[0m\u001b[1;33m]\u001b[0m\u001b[1;33m\u001b[0m\u001b[0m\n",
      "\u001b[1;32mC:\\Users\\Linyx\\Anaconda3\\lib\\site-packages\\tensorflow\\python\\client\\session.py\u001b[0m in \u001b[0;36m_do_run\u001b[1;34m(self, handle, target_list, fetch_list, feed_dict, options, run_metadata)\u001b[0m\n\u001b[0;32m   1013\u001b[0m     \u001b[1;32mif\u001b[0m \u001b[0mhandle\u001b[0m \u001b[1;32mis\u001b[0m \u001b[1;32mNone\u001b[0m\u001b[1;33m:\u001b[0m\u001b[1;33m\u001b[0m\u001b[0m\n\u001b[0;32m   1014\u001b[0m       return self._do_call(_run_fn, self._session, feed_dict, fetch_list,\n\u001b[1;32m-> 1015\u001b[1;33m                            target_list, options, run_metadata)\n\u001b[0m\u001b[0;32m   1016\u001b[0m     \u001b[1;32melse\u001b[0m\u001b[1;33m:\u001b[0m\u001b[1;33m\u001b[0m\u001b[0m\n\u001b[0;32m   1017\u001b[0m       return self._do_call(_prun_fn, self._session, handle, feed_dict,\n",
      "\u001b[1;32mC:\\Users\\Linyx\\Anaconda3\\lib\\site-packages\\tensorflow\\python\\client\\session.py\u001b[0m in \u001b[0;36m_do_call\u001b[1;34m(self, fn, *args)\u001b[0m\n\u001b[0;32m   1020\u001b[0m   \u001b[1;32mdef\u001b[0m \u001b[0m_do_call\u001b[0m\u001b[1;33m(\u001b[0m\u001b[0mself\u001b[0m\u001b[1;33m,\u001b[0m \u001b[0mfn\u001b[0m\u001b[1;33m,\u001b[0m \u001b[1;33m*\u001b[0m\u001b[0margs\u001b[0m\u001b[1;33m)\u001b[0m\u001b[1;33m:\u001b[0m\u001b[1;33m\u001b[0m\u001b[0m\n\u001b[0;32m   1021\u001b[0m     \u001b[1;32mtry\u001b[0m\u001b[1;33m:\u001b[0m\u001b[1;33m\u001b[0m\u001b[0m\n\u001b[1;32m-> 1022\u001b[1;33m       \u001b[1;32mreturn\u001b[0m \u001b[0mfn\u001b[0m\u001b[1;33m(\u001b[0m\u001b[1;33m*\u001b[0m\u001b[0margs\u001b[0m\u001b[1;33m)\u001b[0m\u001b[1;33m\u001b[0m\u001b[0m\n\u001b[0m\u001b[0;32m   1023\u001b[0m     \u001b[1;32mexcept\u001b[0m \u001b[0merrors\u001b[0m\u001b[1;33m.\u001b[0m\u001b[0mOpError\u001b[0m \u001b[1;32mas\u001b[0m \u001b[0me\u001b[0m\u001b[1;33m:\u001b[0m\u001b[1;33m\u001b[0m\u001b[0m\n\u001b[0;32m   1024\u001b[0m       \u001b[0mmessage\u001b[0m \u001b[1;33m=\u001b[0m \u001b[0mcompat\u001b[0m\u001b[1;33m.\u001b[0m\u001b[0mas_text\u001b[0m\u001b[1;33m(\u001b[0m\u001b[0me\u001b[0m\u001b[1;33m.\u001b[0m\u001b[0mmessage\u001b[0m\u001b[1;33m)\u001b[0m\u001b[1;33m\u001b[0m\u001b[0m\n",
      "\u001b[1;32mC:\\Users\\Linyx\\Anaconda3\\lib\\site-packages\\tensorflow\\python\\client\\session.py\u001b[0m in \u001b[0;36m_run_fn\u001b[1;34m(session, feed_dict, fetch_list, target_list, options, run_metadata)\u001b[0m\n\u001b[0;32m   1002\u001b[0m         return tf_session.TF_Run(session, options,\n\u001b[0;32m   1003\u001b[0m                                  \u001b[0mfeed_dict\u001b[0m\u001b[1;33m,\u001b[0m \u001b[0mfetch_list\u001b[0m\u001b[1;33m,\u001b[0m \u001b[0mtarget_list\u001b[0m\u001b[1;33m,\u001b[0m\u001b[1;33m\u001b[0m\u001b[0m\n\u001b[1;32m-> 1004\u001b[1;33m                                  status, run_metadata)\n\u001b[0m\u001b[0;32m   1005\u001b[0m \u001b[1;33m\u001b[0m\u001b[0m\n\u001b[0;32m   1006\u001b[0m     \u001b[1;32mdef\u001b[0m \u001b[0m_prun_fn\u001b[0m\u001b[1;33m(\u001b[0m\u001b[0msession\u001b[0m\u001b[1;33m,\u001b[0m \u001b[0mhandle\u001b[0m\u001b[1;33m,\u001b[0m \u001b[0mfeed_dict\u001b[0m\u001b[1;33m,\u001b[0m \u001b[0mfetch_list\u001b[0m\u001b[1;33m)\u001b[0m\u001b[1;33m:\u001b[0m\u001b[1;33m\u001b[0m\u001b[0m\n",
      "\u001b[1;31mKeyboardInterrupt\u001b[0m: "
     ]
    }
   ],
   "source": [
    "model.fit(train_x, train_y,\n",
    "          batch_size=batch_size,\n",
    "          epochs=epochs,\n",
    "          validation_data=(test_x, test_y))\n",
    "model.evaluate(test_x, test_y, verbose=0)"
   ]
  }
 ],
 "metadata": {
  "kernelspec": {
   "display_name": "Python 3",
   "language": "python",
   "name": "python3"
  },
  "language_info": {
   "codemirror_mode": {
    "name": "ipython",
    "version": 3
   },
   "file_extension": ".py",
   "mimetype": "text/x-python",
   "name": "python",
   "nbconvert_exporter": "python",
   "pygments_lexer": "ipython3",
   "version": "3.5.3"
  }
 },
 "nbformat": 4,
 "nbformat_minor": 2
}
