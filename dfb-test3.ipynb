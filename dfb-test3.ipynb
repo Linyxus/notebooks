{
 "cells": [
  {
   "cell_type": "markdown",
   "metadata": {},
   "source": [
    "## 登峰杯模型测试\n",
    "把数据连续化的尝试不算太成功，那么进行向量化试试。"
   ]
  },
  {
   "cell_type": "code",
   "execution_count": 1,
   "metadata": {
    "collapsed": false
   },
   "outputs": [
    {
     "name": "stderr",
     "output_type": "stream",
     "text": [
      "Using TensorFlow backend.\n"
     ]
    }
   ],
   "source": [
    "# Import Libs\n",
    "from keras.models import Sequential\n",
    "from keras.layers import Dense, Activation\n",
    "from keras.callbacks import Callback, History\n",
    "from keras.utils import to_categorical as toc \n",
    "import numpy as np\n",
    "import matplotlib.pyplot as plt"
   ]
  },
  {
   "cell_type": "code",
   "execution_count": 2,
   "metadata": {
    "collapsed": true
   },
   "outputs": [],
   "source": [
    "# Visualize\n",
    "def displayHis(history):\n",
    "    total_points = 1000\n",
    "    losses = history.history['loss']\n",
    "    acc = history.history['acc']\n",
    "    x = range(0, total_points)\n",
    "    fac = np.floor(len(losses) / total_points)\n",
    "    racc = [ ]\n",
    "    for i in range(0, len(acc)):\n",
    "        if i % fac == 0:\n",
    "            racc.append(acc[i])\n",
    "    rlosses = [ ]\n",
    "    for i in range(0, len(losses)):\n",
    "        if i % fac == 0:\n",
    "            rlosses.append(losses[i])\n",
    "    \n",
    "    f, axarr = plt.subplots(2, sharex=True)\n",
    "    axarr[0].plot(x, racc)\n",
    "    axarr[0].set_title('Accuracy')\n",
    "    axarr[1].plot(x, rlosses)\n",
    "    axarr[1].set_title('Loss')\n",
    "history = History()"
   ]
  },
  {
   "cell_type": "code",
   "execution_count": 3,
   "metadata": {
    "collapsed": false
   },
   "outputs": [
    {
     "name": "stdout",
     "output_type": "stream",
     "text": [
      "[[ 1.  0.  0.  0.]\n",
      " [ 1.  0.  0.  0.]\n",
      " [ 1.  0.  0.  0.]\n",
      " ..., \n",
      " [ 0.  0.  0.  1.]\n",
      " [ 0.  0.  0.  1.]\n",
      " [ 0.  0.  0.  1.]]\n"
     ]
    }
   ],
   "source": [
    "# 对第一名，第二名，第三名，以及出局者分别生成有意义的数据，来获得理想的结果\n",
    "# Generate Data\n",
    "data = [ ]\n",
    "labels = [ ]\n",
    "# Winners\n",
    "for _ in range(0, 250):\n",
    "    item = [ ] # Rate, Coins, Score, Length, Rough\n",
    "    item.append(np.random.random()*0.25) # Rate\n",
    "    item.append(np.random.random()*0.5+0.5) # Coins\n",
    "    item.append(np.random.random()*0.5+0.5) # Score\n",
    "    item.append(np.random.random()*0.5) # Length\n",
    "    item.append(np.random.random()*0.25) # Rough\n",
    "    data.append(item)\n",
    "    labels.append(0)\n",
    "    \n",
    "# Second\n",
    "for _ in range(0, 250):\n",
    "    item = [ ] # Rate, Coins, Score, Length, Rough\n",
    "    item.append(np.random.random()*0.5) # Rate\n",
    "    item.append(np.random.random()*0.5+0.5) # Coins\n",
    "    item.append(np.random.random()*0.5+0.5) # Score\n",
    "    item.append(np.random.random()*0.5) # Length\n",
    "    item.append(np.random.random()*0.25) # Rough\n",
    "    data.append(item)\n",
    "    labels.append(1)\n",
    "\n",
    "# Third\n",
    "for _ in range(0, 250):\n",
    "    item = [ ] # Rate, Coins, Score, Length, Rough\n",
    "    item.append(np.random.random()*0.25+0.75) # Rate\n",
    "    item.append(np.random.random()) # Coins\n",
    "    item.append(np.random.random()) # Score\n",
    "    item.append(np.random.random()) # Length\n",
    "    item.append(np.random.random()) # Rough\n",
    "    data.append(item)\n",
    "    labels.append(2)\n",
    "    \n",
    "# Out\n",
    "for _ in range(0, 250):\n",
    "    item = [ ] # Rate, Coins, Score, Length, Rough\n",
    "    item.append(np.random.random()*0.1+0.9) # Rate\n",
    "    item.append(np.random.random()*0.3) # Coins\n",
    "    item.append(np.random.random()*0.3) # Score\n",
    "    item.append(np.random.random()) # Length\n",
    "    item.append(np.random.random()*0.5+0.5) # Rough\n",
    "    data.append(item)\n",
    "    labels.append(3)\n",
    "\n",
    "one_hot_labels = toc(labels, num_classes=4)\n",
    "print one_hot_labels"
   ]
  },
  {
   "cell_type": "code",
   "execution_count": 4,
   "metadata": {
    "collapsed": false
   },
   "outputs": [],
   "source": [
    "model = Sequential()\n",
    "model.add(Dense(100, activation='relu', input_dim=5))\n",
    "model.add(Dense(64, activation='relu'))\n",
    "model.add(Dense(4, activation='softmax'))\n",
    "model.compile(optimizer='rmsprop',\n",
    "              loss='categorical_crossentropy',\n",
    "              metrics=['accuracy'])"
   ]
  },
  {
   "cell_type": "code",
   "execution_count": 5,
   "metadata": {
    "collapsed": false
   },
   "outputs": [
    {
     "data": {
      "text/plain": [
       "<keras.callbacks.History at 0x7f9217d476d0>"
      ]
     },
     "execution_count": 5,
     "metadata": {},
     "output_type": "execute_result"
    }
   ],
   "source": [
    "model.fit(data, one_hot_labels, epochs=5000, batch_size=32, verbose=0, callbacks=[history])"
   ]
  },
  {
   "cell_type": "code",
   "execution_count": 6,
   "metadata": {
    "collapsed": false
   },
   "outputs": [
    {
     "name": "stdout",
     "output_type": "stream",
     "text": [
      "0.995\n"
     ]
    },
    {
     "data": {
      "image/png": "[encoded data removed]",
      "text/plain": [
       "<matplotlib.figure.Figure at 0x7f9217cf9990>"
      ]
     },
     "metadata": {},
     "output_type": "display_data"
    }
   ],
   "source": [
    "%matplotlib inline\n",
    "print history.history['acc'][len(history.history['acc'])-1]\n",
    "displayHis(history)"
   ]
  },
  {
   "cell_type": "code",
   "execution_count": 15,
   "metadata": {
    "collapsed": false
   },
   "outputs": [
    {
     "data": {
      "text/plain": [
       "array([[  1.00000000e+00,   6.11890920e-12,   0.00000000e+00,\n",
       "          8.90209734e-30],\n",
       "       [  0.00000000e+00,   3.78532685e-35,   1.00000000e+00,\n",
       "          0.00000000e+00]], dtype=float32)"
      ]
     },
     "execution_count": 15,
     "metadata": {},
     "output_type": "execute_result"
    }
   ],
   "source": [
    "model.predict([[0, 0.8, 0.8, 0.2, 0.2], [0.8, 0.8, 0.8, 0.2, 0.2]])"
   ]
  },
  {
   "cell_type": "markdown",
   "metadata": {},
   "source": [
    "可以看到，犯规概率为0.0与犯规概率为0.8的司机差距明显。模型对不犯规司机的预测是第一名，而对犯规司机的预测是第三名。"
   ]
  }
 ],
 "metadata": {
  "kernelspec": {
   "display_name": "Python 2",
   "language": "python",
   "name": "python2"
  },
  "language_info": {
   "codemirror_mode": {
    "name": "ipython",
    "version": 2
   },
   "file_extension": ".py",
   "mimetype": "text/x-python",
   "name": "python",
   "nbconvert_exporter": "python",
   "pygments_lexer": "ipython2",
   "version": "2.7.12+"
  }
 },
 "nbformat": 4,
 "nbformat_minor": 2
}
