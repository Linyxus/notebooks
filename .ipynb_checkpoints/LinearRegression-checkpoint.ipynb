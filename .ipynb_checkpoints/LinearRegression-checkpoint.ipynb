{
 "cells": [
  {
   "cell_type": "markdown",
   "metadata": {},
   "source": [
    "## 线性模型\n",
    "### 基本形式\n",
    "\n",
    "$$ f(x) = w^T x + b $$\n",
    "\n",
    "其中，\n",
    "\n",
    "$$\n",
    "w = \\begin{pmatrix} w_1 \\\\ w_2 \\\\ w_3 \\\\ \\vdots \\\\ w_d \\end{pmatrix}\n",
    "$$\n",
    "\n",
    "### 衡量\n",
    "方差*(均方误差)*\n",
    "\n",
    "$$\n",
    "E = \\sum_{i=1}^m (f(x_i)-y_i)^2\n",
    "$$\n",
    "\n",
    "### 求解\n",
    "#### 闭式解\n",
    "特殊地，当$x$仅有一元时，\n",
    "\n",
    "$$\n",
    "E_{(w, b)} = \\sum_{i=1}^m (y_i - wx_i - b)^2\n",
    "$$\n",
    "\n",
    "对$w$求导，得\n",
    "\n",
    "$$\n",
    "\\frac{\\partial E_{(w,b)}} {\\partial w} = 2 \\left(w \\sum_{i=1}^m x_i^2 - \\sum_{i=1}^m (y_i - b)x_i \\right)\n",
    "$$\n",
    "\n",
    "对$b$求导，得\n",
    "\n",
    "$$\n",
    "\\frac{\\partial E_{(w,b)}} {\\partial b} = 2 \\left(m b - \\sum_{i=1}^m (y_i - w x_i) \\right)\n",
    "$$\n",
    "\n",
    "令上二式等于0可得$w$与$b$的最优解：\n",
    "$$\n",
    "w = \\frac { \\sum_{i=1}^m y_i (x_i - \\overline{x}) } { \\sum_{i=1}^m x_i^2 - \\frac {1} {m} \\left( \\sum_{i=1}^m x_i \\right)^2 }\n",
    "$$\n",
    "\n",
    "$$\n",
    "b = \\frac{1}{m} \\sum_{i=1}^m (y_i - w x_i)\n",
    "$$\n",
    "\n",
    "#### 机器学习\n",
    "训练，最小化方差。\n",
    "\n",
    "##### Tensorflow\n",
    "引入两个库"
   ]
  },
  {
   "cell_type": "code",
   "execution_count": 1,
   "metadata": {
    "collapsed": true
   },
   "outputs": [],
   "source": [
    "import tensorflow as tf\n",
    "import numpy as np"
   ]
  },
  {
   "cell_type": "markdown",
   "metadata": {},
   "source": [
    "生成随机数据"
   ]
  },
  {
   "cell_type": "code",
   "execution_count": 7,
   "metadata": {
    "collapsed": false
   },
   "outputs": [
    {
     "name": "stdout",
     "output_type": "stream",
     "text": [
      "[[ 0.18878582  0.6805374   0.9201383   0.67585671  0.56518322  0.25838807\n",
      "   0.70950687  0.29227215  0.65086776  0.00157105  0.54940259  0.36428237\n",
      "   0.3858718   0.10832717  0.35022086  0.32513943  0.39015755  0.22788034\n",
      "   0.26348987  0.23874779  0.89758277  0.94123799  0.32118514  0.4068611\n",
      "   0.84208059  0.54656506  0.34159845  0.18676889  0.31865051  0.81193125\n",
      "   0.79764628  0.5569405   0.35876781  0.84187812  0.75656992  0.24731839\n",
      "   0.82755852  0.08304593  0.95887667  0.201499    0.03786639  0.95800668\n",
      "   0.652578    0.08296921  0.46870175  0.44760001  0.44835109  0.14175586\n",
      "   0.26876813  0.80289859  0.78474534  0.14840144  0.8011663   0.99282587\n",
      "   0.41567439  0.02363165  0.17841081  0.31994727  0.13386919  0.78585857\n",
      "   0.85714662  0.67703187  0.76944411  0.18241033  0.56796402  0.44409299\n",
      "   0.84146154  0.78817451  0.20133331  0.33553231  0.83782804  0.70165843\n",
      "   0.88865054  0.25617924  0.69885403  0.41991863  0.53106165  0.61414981\n",
      "   0.16544937  0.08269283  0.53354836  0.69060344  0.8996101   0.99500632\n",
      "   0.47487834  0.43740782  0.68926436  0.18357052  0.5389595   0.82457441\n",
      "   0.34759241  0.9707278   0.66155016  0.30253598  0.57700652  0.09147327\n",
      "   0.41299605  0.65895814  0.45693243  0.52791089]] [[ 0.75204754  2.29614758  3.04849434  2.28145027  1.9339354   0.97059858\n",
      "   2.38711166  1.07699454  2.20298481  0.16419309  1.88438427  1.30310667\n",
      "   1.37089753  0.49940735  1.25895357  1.18019783  1.38435483  0.87480426\n",
      "   0.98661828  0.90892804  2.97766995  3.11474752  1.16778147  1.43680394\n",
      "   2.80339313  1.87547433  1.23187923  0.74571431  1.1598227   2.70872426\n",
      "   2.66386938  1.90805328  1.28579104  2.8027575   2.5348897   0.93583977\n",
      "   2.7577939   0.42002425  3.17013288  0.79196692  0.27816045  3.16740108\n",
      "   2.20835495  0.41978332  1.63098359  1.56472409  1.56708252  0.60437346\n",
      "   1.00319195  2.68036175  2.6233604   0.62524056  2.67492223  3.2767334\n",
      "   1.46447766  0.23346339  0.71947002  1.16389453  0.57960927  2.62685609\n",
      "   2.85070062  2.28514028  2.57531452  0.73202848  1.94266713  1.55371201\n",
      "   2.8014493   2.63412809  0.79144669  1.2128315   2.79004025  2.36246753\n",
      "   2.94962287  0.96366286  2.35366178  1.47780454  1.82679367  2.08769035\n",
      "   0.67877102  0.41891551  1.83460188  2.32775497  2.98403597  3.28358006\n",
      "   1.65037811  1.53272069  2.32355022  0.7356714   1.8515929   2.74842381\n",
      "   1.25070024  3.20734549  2.23652768  1.10922301  1.97106051  0.44648609\n",
      "   1.45606768  2.22838855  1.59402788  1.81690025]]\n"
     ]
    }
   ],
   "source": [
    "x_data = np.float32(np.random.rand(1, 100))\n",
    "y_data = 3.14 * x_data + 0.15926\n",
    "print x_data, y_data"
   ]
  },
  {
   "cell_type": "markdown",
   "metadata": {},
   "source": [
    "训练"
   ]
  },
  {
   "cell_type": "code",
   "execution_count": 23,
   "metadata": {
    "collapsed": false
   },
   "outputs": [
    {
     "name": "stdout",
     "output_type": "stream",
     "text": [
      "(0, array([ 1.11443841], dtype=float32), array([ 1.74249077], dtype=float32))\n",
      "(20, array([ 2.48020697], dtype=float32), array([ 0.5128454], dtype=float32))\n",
      "(40, array([ 2.9450295], dtype=float32), array([ 0.26374537], dtype=float32))\n",
      "(60, array([ 3.08238578], dtype=float32), array([ 0.19013578], dtype=float32))\n",
      "(80, array([ 3.12297511], dtype=float32), array([ 0.16838378], dtype=float32))\n",
      "(100, array([ 3.13496923], dtype=float32), array([ 0.16195609], dtype=float32))\n",
      "(120, array([ 3.13851357], dtype=float32), array([ 0.16005668], dtype=float32))\n",
      "(140, array([ 3.13956118], dtype=float32), array([ 0.15949526], dtype=float32))\n",
      "(160, array([ 3.13987041], dtype=float32), array([ 0.1593295], dtype=float32))\n",
      "(180, array([ 3.13996196], dtype=float32), array([ 0.15928049], dtype=float32))\n",
      "(200, array([ 3.1399889], dtype=float32), array([ 0.15926602], dtype=float32))\n"
     ]
    }
   ],
   "source": [
    "b = tf.Variable(tf.zeros([1]))\n",
    "W = tf.Variable(tf.zeros([1]))\n",
    "y = W * x_data + b\n",
    "loss = tf.reduce_mean(tf.square(y - y_data))\n",
    "optimizer = tf.train.GradientDescentOptimizer(0.5)\n",
    "train = optimizer.minimize(loss)\n",
    "init = tf.global_variables_initializer()\n",
    "sess = tf.Session()\n",
    "sess.run(init)\n",
    "for step in np.arange(0,201):\n",
    "    sess.run(train)\n",
    "    if step % 20 == 0:\n",
    "        print(step,sess.run(W),sess.run(b))\n",
    "W1 = sess.run(W)\n",
    "b1 = sess.run(b)\n",
    "W1 = W1[0]\n",
    "b1 = b1[0]\n",
    "sess.close()"
   ]
  },
  {
   "cell_type": "markdown",
   "metadata": {},
   "source": [
    "接下来，求$w$与$b$的闭式解"
   ]
  },
  {
   "cell_type": "code",
   "execution_count": 34,
   "metadata": {
    "collapsed": false
   },
   "outputs": [
    {
     "name": "stdout",
     "output_type": "stream",
     "text": [
      "0.188786\n"
     ]
    },
    {
     "ename": "IndexError",
     "evalue": "invalid index to scalar variable.",
     "output_type": "error",
     "traceback": [
      "\u001b[0;31m---------------------------------------------------------------------------\u001b[0m",
      "\u001b[0;31mIndexError\u001b[0m                                Traceback (most recent call last)",
      "\u001b[0;32m<ipython-input-34-bea732f65614>\u001b[0m in \u001b[0;36m<module>\u001b[0;34m()\u001b[0m\n\u001b[1;32m      3\u001b[0m \u001b[0;32mprint\u001b[0m \u001b[0mx_data\u001b[0m\u001b[0;34m[\u001b[0m\u001b[0;36m0\u001b[0m\u001b[0;34m]\u001b[0m\u001b[0;34m[\u001b[0m\u001b[0;36m0\u001b[0m\u001b[0;34m]\u001b[0m\u001b[0;34m\u001b[0m\u001b[0m\n\u001b[1;32m      4\u001b[0m \u001b[0;32mfor\u001b[0m \u001b[0mi\u001b[0m \u001b[0;32min\u001b[0m \u001b[0mrange\u001b[0m\u001b[0;34m(\u001b[0m\u001b[0;36m0\u001b[0m\u001b[0;34m,\u001b[0m \u001b[0mlen\u001b[0m\u001b[0;34m(\u001b[0m\u001b[0mx_data\u001b[0m\u001b[0;34m[\u001b[0m\u001b[0;36m0\u001b[0m\u001b[0;34m]\u001b[0m\u001b[0;34m)\u001b[0m\u001b[0;34m)\u001b[0m\u001b[0;34m:\u001b[0m\u001b[0;34m\u001b[0m\u001b[0m\n\u001b[0;32m----> 5\u001b[0;31m     \u001b[0ms\u001b[0m \u001b[0;34m=\u001b[0m \u001b[0ms\u001b[0m \u001b[0;34m+\u001b[0m \u001b[0my_data\u001b[0m\u001b[0;34m[\u001b[0m\u001b[0;36m0\u001b[0m\u001b[0;34m]\u001b[0m\u001b[0;34m[\u001b[0m\u001b[0mi\u001b[0m\u001b[0;34m]\u001b[0m \u001b[0;34m*\u001b[0m \u001b[0;34m(\u001b[0m\u001b[0mx\u001b[0m\u001b[0;34m[\u001b[0m\u001b[0;36m0\u001b[0m\u001b[0;34m]\u001b[0m\u001b[0;34m[\u001b[0m\u001b[0mi\u001b[0m\u001b[0;34m]\u001b[0m \u001b[0;34m-\u001b[0m \u001b[0mavg\u001b[0m\u001b[0;34m)\u001b[0m\u001b[0;34m\u001b[0m\u001b[0m\n\u001b[0m\u001b[1;32m      6\u001b[0m \u001b[0;34m\u001b[0m\u001b[0m\n",
      "\u001b[0;31mIndexError\u001b[0m: invalid index to scalar variable."
     ]
    }
   ],
   "source": [
    "s = 0\n",
    "avg = np.mean(x_data)\n",
    "for i in range(0, len(x_data[0])):\n",
    "    s = s + y_data[0][i] * (x[0][i] - avg)\n",
    "    "
   ]
  }
 ],
 "metadata": {
  "kernelspec": {
   "display_name": "Python 2",
   "language": "python",
   "name": "python2"
  },
  "language_info": {
   "codemirror_mode": {
    "name": "ipython",
    "version": 2
   },
   "file_extension": ".py",
   "mimetype": "text/x-python",
   "name": "python",
   "nbconvert_exporter": "python",
   "pygments_lexer": "ipython2",
   "version": "2.7.12+"
  }
 },
 "nbformat": 4,
 "nbformat_minor": 2
}
