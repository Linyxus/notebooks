{
 "cells": [
  {
   "cell_type": "markdown",
   "metadata": {},
   "source": [
    "## 登峰杯模型的最终想法\n",
    "原来的四分类（第一名、第二名、第三名、出局）其实并不妥当，考虑到数据（金币、积分、距离、道路通行度、犯规概率）除了犯罪概率都需要标准化。一个简单的处理方法就是个体值除以总和，即\n",
    "\n",
    "$$ x'_i = \\frac {x_i} { \\sum x } $$\n",
    "\n",
    "但显然，出局概率与其他玩家的状态没有关系，只有名次才与其他玩家的状态有关。所以使用标准化的数据来预测出局概率是不妥当的。\n",
    "\n",
    "所以，应该为这个问题建立两个模型。\n",
    "\n",
    "### 模型一(名次预测模型)\n",
    "**输入数据**\n",
    "\n",
    "- 金币 *标准化*\n",
    "- 积分 *标准化*\n",
    "- 距离 *标准化*\n",
    "- 道路通行度 *标准化*\n",
    "- 犯规概率\n",
    "\n",
    "**输出数据**\n",
    "\n",
    "三维向量。 *(softmax标准化)*\n",
    "\n",
    "由于前面的测试已经证明了可行性与准确率，这里仅仅实现模型。"
   ]
  },
  {
   "cell_type": "code",
   "execution_count": null,
   "metadata": {
    "collapsed": true
   },
   "outputs": [],
   "source": [
    "# Import Libs\n",
    "from keras.models import Sequential\n",
    "from keras.layers import Dense, Activation\n",
    "from keras.callbacks import Callback, History\n",
    "from keras.utils import to_categorical as toc \n",
    "import numpy as np\n",
    "import matplotlib.pyplot as plt"
   ]
  },
  {
   "cell_type": "code",
   "execution_count": null,
   "metadata": {
    "collapsed": true
   },
   "outputs": [],
   "source": [
    "# Define the model\n",
    "model = Sequential()\n",
    "model.add(Dense(100, activation='relu', input_dim=5))\n",
    "model.add(Dense(64, activation='relu'))\n",
    "model.add(Dense(3, activation='softmax'))\n",
    "model.compile(optimizer='rmsprop',\n",
    "              loss='categorical_crossentropy',\n",
    "              metrics=['accuracy'])"
   ]
  },
  {
   "cell_type": "markdown",
   "metadata": {},
   "source": [
    "### 模型二(出局概率预测模型)\n",
    "**输入数据**\n",
    "- 金币\n",
    "- 积分\n",
    "- 距离\n",
    "- 道路通行度\n",
    "- 犯规概率\n",
    "\n",
    "**输出数据**\n",
    "\n",
    "数值。*(sigmoid/tanh标准化)*"
   ]
  },
  {
   "cell_type": "code",
   "execution_count": null,
   "metadata": {
    "collapsed": true
   },
   "outputs": [],
   "source": [
    "# Define the model\n",
    "model = Sequential()\n",
    "model.add(Dense(64, activation='relu', input_dim=5))\n",
    "model.add(Dense(32, activation='relu'))\n",
    "model.add(Dense(1, activation='sigmoid')) # 标准化\n",
    "model.compile(optimizer='rmsprop', loss='binary_crossentropy', metrics=['accuracy'])"
   ]
  }
 ],
 "metadata": {
  "kernelspec": {
   "display_name": "Python 2",
   "language": "python",
   "name": "python2"
  },
  "language_info": {
   "codemirror_mode": {
    "name": "ipython",
    "version": 2
   },
   "file_extension": ".py",
   "mimetype": "text/x-python",
   "name": "python",
   "nbconvert_exporter": "python",
   "pygments_lexer": "ipython2",
   "version": "2.7.12+"
  }
 },
 "nbformat": 4,
 "nbformat_minor": 2
}
