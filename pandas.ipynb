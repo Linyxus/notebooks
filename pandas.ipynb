{
 "cells": [
  {
   "cell_type": "code",
   "execution_count": 1,
   "metadata": {
    "collapsed": true
   },
   "outputs": [],
   "source": [
    "import pandas as pd\n",
    "import numpy as np\n",
    "import matplotlib.pyplot as plt"
   ]
  },
  {
   "cell_type": "code",
   "execution_count": 3,
   "metadata": {},
   "outputs": [],
   "source": [
    "df = pd.read_csv('dfb1.csv')"
   ]
  },
  {
   "cell_type": "code",
   "execution_count": 16,
   "metadata": {},
   "outputs": [
    {
     "data": {
      "text/plain": [
       "array([[ 0.34      ,  0.33      ,  0.32      ,  0.31      ,  0.3       ],\n",
       "       [ 0.12      ,  0.33      ,  0.54      ,  0.75      ,  0.96      ],\n",
       "       [ 0.42      ,  0.33      ,  0.76      ,  1.19      ,  1.62      ],\n",
       "       [ 0.321     ,  0.33      ,  0.98      ,  1.63      ,  2.28      ],\n",
       "       [ 0.41333333,  0.33      ,  1.2       ,  2.07      ,  2.94      ],\n",
       "       [ 0.45333333,  0.33      ,  1.42      ,  2.51      ,  3.6       ],\n",
       "       [ 0.49333333,  0.33      ,  1.64      ,  2.95      ,  4.26      ],\n",
       "       [ 0.53333333,  0.33      ,  1.86      ,  3.39      ,  4.92      ],\n",
       "       [ 0.57333333,  0.33      ,  2.08      ,  3.83      ,  5.58      ],\n",
       "       [ 0.61333333,  0.33      ,  2.3       ,  4.27      ,  6.24      ],\n",
       "       [ 0.65333333,  0.33      ,  2.52      ,  4.71      ,  6.9       ],\n",
       "       [ 0.69333333,  0.33      ,  2.74      ,  5.15      ,  7.56      ],\n",
       "       [ 0.73333333,  0.33      ,  2.96      ,  5.59      ,  8.22      ]])"
      ]
     },
     "execution_count": 16,
     "metadata": {},
     "output_type": "execute_result"
    }
   ],
   "source": [
    "df"
   ]
  },
  {
   "cell_type": "code",
   "execution_count": 17,
   "metadata": {},
   "outputs": [
    {
     "data": {
      "text/plain": [
       "array([[ 0.34      ,  0.33      ,  0.32      ,  0.31      ,  0.3       ],\n",
       "       [ 0.12      ,  0.33      ,  0.54      ,  0.75      ,  0.96      ],\n",
       "       [ 0.42      ,  0.33      ,  0.76      ,  1.19      ,  1.62      ],\n",
       "       [ 0.321     ,  0.33      ,  0.98      ,  1.63      ,  2.28      ],\n",
       "       [ 0.41333333,  0.33      ,  1.2       ,  2.07      ,  2.94      ],\n",
       "       [ 0.45333333,  0.33      ,  1.42      ,  2.51      ,  3.6       ],\n",
       "       [ 0.49333333,  0.33      ,  1.64      ,  2.95      ,  4.26      ],\n",
       "       [ 0.53333333,  0.33      ,  1.86      ,  3.39      ,  4.92      ],\n",
       "       [ 0.57333333,  0.33      ,  2.08      ,  3.83      ,  5.58      ],\n",
       "       [ 0.61333333,  0.33      ,  2.3       ,  4.27      ,  6.24      ],\n",
       "       [ 0.65333333,  0.33      ,  2.52      ,  4.71      ,  6.9       ],\n",
       "       [ 0.69333333,  0.33      ,  2.74      ,  5.15      ,  7.56      ],\n",
       "       [ 0.73333333,  0.33      ,  2.96      ,  5.59      ,  8.22      ]])"
      ]
     },
     "execution_count": 17,
     "metadata": {},
     "output_type": "execute_result"
    }
   ],
   "source": [
    "df.as_matrix()"
   ]
  },
  {
   "cell_type": "code",
   "execution_count": 22,
   "metadata": {},
   "outputs": [
    {
     "data": {
      "text/html": [
       "<div>\n",
       "<table border=\"1\" class=\"dataframe\">\n",
       "  <thead>\n",
       "    <tr style=\"text-align: right;\">\n",
       "      <th></th>\n",
       "      <th>crime</th>\n",
       "      <th>length</th>\n",
       "      <th>difficulty</th>\n",
       "      <th>coins</th>\n",
       "    </tr>\n",
       "  </thead>\n",
       "  <tbody>\n",
       "    <tr>\n",
       "      <th>0</th>\n",
       "      <td>0.340000</td>\n",
       "      <td>0.33</td>\n",
       "      <td>0.32</td>\n",
       "      <td>0.31</td>\n",
       "    </tr>\n",
       "    <tr>\n",
       "      <th>1</th>\n",
       "      <td>0.120000</td>\n",
       "      <td>0.33</td>\n",
       "      <td>0.54</td>\n",
       "      <td>0.75</td>\n",
       "    </tr>\n",
       "    <tr>\n",
       "      <th>2</th>\n",
       "      <td>0.420000</td>\n",
       "      <td>0.33</td>\n",
       "      <td>0.76</td>\n",
       "      <td>1.19</td>\n",
       "    </tr>\n",
       "    <tr>\n",
       "      <th>3</th>\n",
       "      <td>0.321000</td>\n",
       "      <td>0.33</td>\n",
       "      <td>0.98</td>\n",
       "      <td>1.63</td>\n",
       "    </tr>\n",
       "    <tr>\n",
       "      <th>4</th>\n",
       "      <td>0.413333</td>\n",
       "      <td>0.33</td>\n",
       "      <td>1.20</td>\n",
       "      <td>2.07</td>\n",
       "    </tr>\n",
       "    <tr>\n",
       "      <th>5</th>\n",
       "      <td>0.453333</td>\n",
       "      <td>0.33</td>\n",
       "      <td>1.42</td>\n",
       "      <td>2.51</td>\n",
       "    </tr>\n",
       "    <tr>\n",
       "      <th>6</th>\n",
       "      <td>0.493333</td>\n",
       "      <td>0.33</td>\n",
       "      <td>1.64</td>\n",
       "      <td>2.95</td>\n",
       "    </tr>\n",
       "    <tr>\n",
       "      <th>7</th>\n",
       "      <td>0.533333</td>\n",
       "      <td>0.33</td>\n",
       "      <td>1.86</td>\n",
       "      <td>3.39</td>\n",
       "    </tr>\n",
       "    <tr>\n",
       "      <th>8</th>\n",
       "      <td>0.573333</td>\n",
       "      <td>0.33</td>\n",
       "      <td>2.08</td>\n",
       "      <td>3.83</td>\n",
       "    </tr>\n",
       "    <tr>\n",
       "      <th>9</th>\n",
       "      <td>0.613333</td>\n",
       "      <td>0.33</td>\n",
       "      <td>2.30</td>\n",
       "      <td>4.27</td>\n",
       "    </tr>\n",
       "    <tr>\n",
       "      <th>10</th>\n",
       "      <td>0.653333</td>\n",
       "      <td>0.33</td>\n",
       "      <td>2.52</td>\n",
       "      <td>4.71</td>\n",
       "    </tr>\n",
       "    <tr>\n",
       "      <th>11</th>\n",
       "      <td>0.693333</td>\n",
       "      <td>0.33</td>\n",
       "      <td>2.74</td>\n",
       "      <td>5.15</td>\n",
       "    </tr>\n",
       "    <tr>\n",
       "      <th>12</th>\n",
       "      <td>0.733333</td>\n",
       "      <td>0.33</td>\n",
       "      <td>2.96</td>\n",
       "      <td>5.59</td>\n",
       "    </tr>\n",
       "  </tbody>\n",
       "</table>\n",
       "</div>"
      ],
      "text/plain": [
       "       crime  length  difficulty  coins\n",
       "0   0.340000    0.33        0.32   0.31\n",
       "1   0.120000    0.33        0.54   0.75\n",
       "2   0.420000    0.33        0.76   1.19\n",
       "3   0.321000    0.33        0.98   1.63\n",
       "4   0.413333    0.33        1.20   2.07\n",
       "5   0.453333    0.33        1.42   2.51\n",
       "6   0.493333    0.33        1.64   2.95\n",
       "7   0.533333    0.33        1.86   3.39\n",
       "8   0.573333    0.33        2.08   3.83\n",
       "9   0.613333    0.33        2.30   4.27\n",
       "10  0.653333    0.33        2.52   4.71\n",
       "11  0.693333    0.33        2.74   5.15\n",
       "12  0.733333    0.33        2.96   5.59"
      ]
     },
     "execution_count": 22,
     "metadata": {},
     "output_type": "execute_result"
    }
   ],
   "source": [
    "df.drop(['credits'], axis=1)"
   ]
  },
  {
   "cell_type": "code",
   "execution_count": null,
   "metadata": {
    "collapsed": true
   },
   "outputs": [],
   "source": []
  }
 ],
 "metadata": {
  "kernelspec": {
   "display_name": "Python 3",
   "language": "python",
   "name": "python3"
  },
  "language_info": {
   "codemirror_mode": {
    "name": "ipython",
    "version": 3
   },
   "file_extension": ".py",
   "mimetype": "text/x-python",
   "name": "python",
   "nbconvert_exporter": "python",
   "pygments_lexer": "ipython3",
   "version": "3.5.3"
  }
 },
 "nbformat": 4,
 "nbformat_minor": 2
}
