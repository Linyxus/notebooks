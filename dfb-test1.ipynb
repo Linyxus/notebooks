{
 "cells": [
  {
   "cell_type": "markdown",
   "metadata": {
    "deletable": true,
    "editable": true
   },
   "source": [
    "## 登峰杯分类模型测试\n",
    "### 样本参数\n",
    "- 金币\n",
    "- 道路通行度\n",
    "- 剩余路程\n",
    "- 积分\n",
    "- 违规概率\n",
    "\n",
    "上述参数都标准化到[0, 1]"
   ]
  },
  {
   "cell_type": "code",
   "execution_count": 1,
   "metadata": {
    "collapsed": false,
    "deletable": true,
    "editable": true
   },
   "outputs": [
    {
     "name": "stderr",
     "output_type": "stream",
     "text": [
      "Using TensorFlow backend.\n"
     ]
    }
   ],
   "source": [
    "from keras.models import Sequential\n",
    "from keras.layers import Dense, Activation\n",
    "from keras.callbacks import Callback, History\n",
    "import numpy as np\n",
    "import matplotlib.pyplot as plt"
   ]
  },
  {
   "cell_type": "code",
   "execution_count": 2,
   "metadata": {
    "collapsed": true,
    "deletable": true,
    "editable": true
   },
   "outputs": [],
   "source": [
    "data = np.random.random((1000, 5))\n",
    "label = np.random.randint(2, size=(1000, 1)) # 0 - lose; 1 - win"
   ]
  },
  {
   "cell_type": "code",
   "execution_count": 3,
   "metadata": {
    "collapsed": false,
    "deletable": true,
    "editable": true
   },
   "outputs": [],
   "source": [
    "model = Sequential()\n",
    "model.add(Dense(64, activation='relu', input_dim=5))\n",
    "model.add(Dense(32, activation='relu'))\n",
    "model.add(Dense(1, activation='sigmoid')) # 标准化\n",
    "model.compile(optimizer='rmsprop', loss='binary_crossentropy', metrics=['accuracy'])"
   ]
  },
  {
   "cell_type": "code",
   "execution_count": 4,
   "metadata": {
    "collapsed": false,
    "deletable": true,
    "editable": true
   },
   "outputs": [],
   "source": [
    "def displayHis(history):\n",
    "    total_points = 1000\n",
    "    losses = history.history['loss']\n",
    "    acc = history.history['acc']\n",
    "    x = range(0, total_points)\n",
    "    fac = np.floor(len(losses) / total_points)\n",
    "    racc = [ ]\n",
    "    for i in range(0, len(acc)):\n",
    "        if i % fac == 0:\n",
    "            racc.append(acc[i])\n",
    "    rlosses = [ ]\n",
    "    for i in range(0, len(losses)):\n",
    "        if i % fac == 0:\n",
    "            rlosses.append(losses[i])\n",
    "    \n",
    "    f, axarr = plt.subplots(2, sharex=True)\n",
    "    axarr[0].plot(x, racc)\n",
    "    axarr[0].set_title('Accuracy')\n",
    "    axarr[1].plot(x, rlosses)\n",
    "    axarr[1].set_title('Loss')\n",
    "history = History()"
   ]
  },
  {
   "cell_type": "code",
   "execution_count": 5,
   "metadata": {
    "collapsed": false,
    "deletable": true,
    "editable": true
   },
   "outputs": [
    {
     "data": {
      "text/plain": [
       "<keras.callbacks.History at 0x7f0cfc420e50>"
      ]
     },
     "execution_count": 5,
     "metadata": {},
     "output_type": "execute_result"
    }
   ],
   "source": [
    "model.fit(data, label, batch_size=32, epochs=12000, verbose=0, callbacks=[history])"
   ]
  },
  {
   "cell_type": "code",
   "execution_count": 6,
   "metadata": {
    "collapsed": false,
    "deletable": true,
    "editable": true
   },
   "outputs": [
    {
     "name": "stdout",
     "output_type": "stream",
     "text": [
      "0.998\n"
     ]
    },
    {
     "data": {
      "image/png": "[encoded data removed]",
      "text/plain": [
       "<matplotlib.figure.Figure at 0x7f0cfc34ef90>"
      ]
     },
     "metadata": {},
     "output_type": "display_data"
    }
   ],
   "source": [
    "%matplotlib inline\n",
    "displayHis(history)\n",
    "print history.history['acc'][len(history.history['acc'])-1]"
   ]
  }
 ],
 "metadata": {
  "kernelspec": {
   "display_name": "Python 2",
   "language": "python",
   "name": "python2"
  },
  "language_info": {
   "codemirror_mode": {
    "name": "ipython",
    "version": 2
   },
   "file_extension": ".py",
   "mimetype": "text/x-python",
   "name": "python",
   "nbconvert_exporter": "python",
   "pygments_lexer": "ipython2",
   "version": "2.7.12+"
  }
 },
 "nbformat": 4,
 "nbformat_minor": 2
}
